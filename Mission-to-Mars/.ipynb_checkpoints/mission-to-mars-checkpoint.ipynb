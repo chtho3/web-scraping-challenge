{
 "cells": [
  {
   "cell_type": "code",
   "execution_count": 1,
   "metadata": {},
   "outputs": [],
   "source": [
    "# Import Dependencies\n",
    "import pandas as pd\n",
    "from splinter import Browser\n",
    "from bs4 import BeautifulSoup\n",
    "import requests\n",
    "import pymongo"
   ]
  },
  {
   "cell_type": "code",
   "execution_count": 2,
   "metadata": {},
   "outputs": [],
   "source": [
    "# Initialize PyMongo to work with MongoDBs\n",
    "conn = 'mongodb://localhost:27017'\n",
    "client = pymongo.MongoClient(conn)\n",
    "\n",
    "\n",
    "# Define database and collection\n",
    "db = client.news_db\n",
    "collection = db.items"
   ]
  },
  {
   "cell_type": "code",
   "execution_count": 3,
   "metadata": {},
   "outputs": [],
   "source": [
    "mars_url= \"https://mars.nasa.gov/news/\"\n",
    "jpl_url= \"https://www.jpl.nasa.gov/spaceimages/?search=&category=Mars\"\n",
    "\n",
    "executable_path = {'executable_path': 'chromedriver.exe'}\n",
    "browser = Browser('chrome', **executable_path, headless=False)"
   ]
  },
  {
   "cell_type": "code",
   "execution_count": 4,
   "metadata": {},
   "outputs": [],
   "source": [
    "browser.visit(mars_url)"
   ]
  },
  {
   "cell_type": "code",
   "execution_count": 6,
   "metadata": {},
   "outputs": [
    {
     "name": "stdout",
     "output_type": "stream",
     "text": [
      "Virginia Middle School Student Earns Honor of Naming NASA's Next Mars Rover\n",
      "NASA chose a seventh-grader from Virginia as winner of the agency's \"Name the Rover\" essay contest. Alexander Mather's entry for \"Perseverance\" was voted tops among 28,000 entries. \n"
     ]
    }
   ],
   "source": [
    "# MARS NEWS DATA SCRAPING\n",
    "html = browser.html\n",
    "mars_soup = BeautifulSoup(html, 'html.parser')\n",
    "\n",
    "try:\n",
    "    # Identify and return title of post\n",
    "    news_title = mars_soup.find('div', class_='list_text').find('a').text\n",
    "    # Identify and return paragraph text\n",
    "    news_p = mars_soup.find('div', class_='article_teaser_body').text\n",
    "\n",
    "    # Run only if title, price, and link are available\n",
    "    if (news_title and news_p):\n",
    "        # Print results\n",
    "        print(news_title)\n",
    "        print(news_p)\n",
    "\n",
    "        # Dictionary to be inserted as a MongoDB document\n",
    "        post = {\n",
    "            'title': news_title,\n",
    "            'price': news_p\n",
    "        }\n",
    "\n",
    "        collection.insert_one(post)\n",
    "\n",
    "except Exception as e:\n",
    "    print(e)"
   ]
  },
  {
   "cell_type": "code",
   "execution_count": 7,
   "metadata": {},
   "outputs": [],
   "source": [
    "# Navigate chromedriver to jpl_url\n",
    "executable_path = {'executable_path': 'chromedriver.exe'}\n",
    "browser = Browser('chrome', **executable_path, headless=False)\n",
    "browser.visit(jpl_url)"
   ]
  },
  {
   "cell_type": "code",
   "execution_count": 8,
   "metadata": {},
   "outputs": [
    {
     "name": "stdout",
     "output_type": "stream",
     "text": [
      "https://www.jpl.nasa.gov/spaceimages/images/wallpaper/PIA23745-640x350.jpg\n"
     ]
    }
   ],
   "source": [
    "#JPL DATA IMG SCRAPING\n",
    "html = browser.html\n",
    "jpl_soup = BeautifulSoup(html, 'html.parser')\n",
    "intro_url=\"https://www.jpl.nasa.gov\"\n",
    "\n",
    "try:\n",
    "    # Identify and return title of post\n",
    "    featured_image_url = jpl_soup.find('div', class_=\"img\").img['src']\n",
    "    \n",
    "    # Run only if title, price, and link are available\n",
    "    if (featured_image_url):\n",
    "        # Print results\n",
    "        print(intro_url + featured_image_url)\n",
    "\n",
    "        # Dictionary to be inserted as a MongoDB document\n",
    "        post = {\n",
    "            'featured_image_url': intro_url + featured_image_url        }\n",
    "\n",
    "        collection.insert_one(post)\n",
    "\n",
    "except Exception as e:\n",
    "    print(e)"
   ]
  },
  {
   "cell_type": "code",
   "execution_count": 9,
   "metadata": {},
   "outputs": [],
   "source": [
    "#MARS WEATHER\n",
    "twit_url='https://twitter.com/marswxreport?lang=en'\n",
    "\n",
    "executable_path = {'executable_path': 'chromedriver.exe'}\n",
    "browser = Browser('chrome', **executable_path, headless=False)\n",
    "browser.visit(twit_url)"
   ]
  },
  {
   "cell_type": "code",
   "execution_count": 10,
   "metadata": {},
   "outputs": [
    {
     "name": "stdout",
     "output_type": "stream",
     "text": [
      "InSight sol 453 (2020-03-05) low -95.1ºC (-139.1ºF) high -10.8ºC (12.6ºF)\n",
      "winds from the SSW at 6.0 m/s (13.3 mph) gusting to 21.4 m/s (47.9 mph)\n",
      "pressure at 6.30 hPa\n"
     ]
    }
   ],
   "source": [
    "html = browser.html\n",
    "twit_soup = BeautifulSoup(html, 'html.parser')\n",
    "\n",
    "#Scrape Twitter\n",
    "try:\n",
    "    # Identify and return weather\n",
    "    mars_weather = twit_soup.find('div', class_=\"css-901oao r-hkyrab r-1qd0xha r-a023e6 r-16dba41 r-ad9z0x r-bcqeeo r-bnwqim r-qvutc0\").text\n",
    "    \n",
    "    # Run only if available\n",
    "    if (mars_weather):\n",
    "        # Print results\n",
    "        print(mars_weather)\n",
    "\n",
    "        # Dictionary to be inserted as a MongoDB document\n",
    "        post = {\n",
    "            'mars_weather': mars_weather       }\n",
    "\n",
    "        collection.insert_one(post)\n",
    "\n",
    "except Exception as e:\n",
    "    print(e)"
   ]
  },
  {
   "cell_type": "code",
   "execution_count": 11,
   "metadata": {},
   "outputs": [],
   "source": [
    "#MARS FACTS\n",
    "facts_url = \"https://space-facts.com/mars/\"\n",
    "\n",
    "executable_path = {'executable_path': 'chromedriver.exe'}\n",
    "browser = Browser('chrome', **executable_path, headless=False)\n",
    "browser.visit(facts_url)"
   ]
  },
  {
   "cell_type": "code",
   "execution_count": 12,
   "metadata": {},
   "outputs": [
    {
     "name": "stdout",
     "output_type": "stream",
     "text": [
      "<tbody><tr class=\"row-1 odd\"><td class=\"column-1\"><strong>Equatorial Diameter:</strong></td><td class=\"column-2\">6,792 km<br/></td></tr><tr class=\"row-2 even\"><td class=\"column-1\"><strong>Polar Diameter:</strong></td><td class=\"column-2\">6,752 km<br/></td></tr><tr class=\"row-3 odd\"><td class=\"column-1\"><strong>Mass:</strong></td><td class=\"column-2\">6.39 × 10^23 kg<br/> (0.11 Earths)</td></tr><tr class=\"row-4 even\"><td class=\"column-1\"><strong>Moons:</strong></td><td class=\"column-2\">2 (<a href=\"https://space-facts.com/moons/phobos/\">Phobos</a> &amp; <a href=\"https://space-facts.com/moons/deimos/\">Deimos</a>)</td></tr><tr class=\"row-5 odd\"><td class=\"column-1\"><strong>Orbit Distance:</strong></td><td class=\"column-2\">227,943,824 km<br/> (1.38 AU)</td></tr><tr class=\"row-6 even\"><td class=\"column-1\"><strong>Orbit Period:</strong></td><td class=\"column-2\">687 days (1.9 years)<br/></td></tr><tr class=\"row-7 odd\"><td class=\"column-1\"><strong>Surface Temperature: </strong></td><td class=\"column-2\">-87 to -5 °C</td></tr><tr class=\"row-8 even\"><td class=\"column-1\"><strong>First Record:</strong></td><td class=\"column-2\">2nd millennium BC</td></tr><tr class=\"row-9 odd\"><td class=\"column-1\"><strong>Recorded By:</strong></td><td class=\"column-2\">Egyptian astronomers</td></tr></tbody>\n",
      "cannot encode object: <tbody><tr class=\"row-1 odd\"><td class=\"column-1\"><strong>Equatorial Diameter:</strong></td><td class=\"column-2\">6,792 km<br/></td></tr><tr class=\"row-2 even\"><td class=\"column-1\"><strong>Polar Diameter:</strong></td><td class=\"column-2\">6,752 km<br/></td></tr><tr class=\"row-3 odd\"><td class=\"column-1\"><strong>Mass:</strong></td><td class=\"column-2\">6.39 × 10^23 kg<br/> (0.11 Earths)</td></tr><tr class=\"row-4 even\"><td class=\"column-1\"><strong>Moons:</strong></td><td class=\"column-2\">2 (<a href=\"https://space-facts.com/moons/phobos/\">Phobos</a> &amp; <a href=\"https://space-facts.com/moons/deimos/\">Deimos</a>)</td></tr><tr class=\"row-5 odd\"><td class=\"column-1\"><strong>Orbit Distance:</strong></td><td class=\"column-2\">227,943,824 km<br/> (1.38 AU)</td></tr><tr class=\"row-6 even\"><td class=\"column-1\"><strong>Orbit Period:</strong></td><td class=\"column-2\">687 days (1.9 years)<br/></td></tr><tr class=\"row-7 odd\"><td class=\"column-1\"><strong>Surface Temperature: </strong></td><td class=\"column-2\">-87 to -5 °C</td></tr><tr class=\"row-8 even\"><td class=\"column-1\"><strong>First Record:</strong></td><td class=\"column-2\">2nd millennium BC</td></tr><tr class=\"row-9 odd\"><td class=\"column-1\"><strong>Recorded By:</strong></td><td class=\"column-2\">Egyptian astronomers</td></tr></tbody>, of type: <class 'bs4.element.Tag'>\n"
     ]
    }
   ],
   "source": [
    "html = browser.html\n",
    "table_soup = BeautifulSoup(html, 'html.parser')\n",
    "\n",
    "#Scrape Stats\n",
    "try:\n",
    "    # Identify and return weather\n",
    "    mars_stats = table_soup.find('table', class_=\"tablepress tablepress-id-p-mars\").find('tbody')\n",
    "    # Run only if available\n",
    "    if (mars_stats):\n",
    "        # Print results\n",
    "        print(mars_stats)\n",
    "\n",
    "        # Dictionary to be inserted as a MongoDB document\n",
    "        post = {\n",
    "            'mars_facts_html': mars_stats       }\n",
    "\n",
    "        collection.insert_one(post)\n",
    "\n",
    "except Exception as e:\n",
    "    print(e)"
   ]
  },
  {
   "cell_type": "code",
   "execution_count": 13,
   "metadata": {},
   "outputs": [],
   "source": [
    "#MARS HEMISPHERES (img 1)\n",
    "usgs_url = \"https://astrogeology.usgs.gov/search/results?q=hemisphere+enhanced&k1=target&v1=Mars\"\n",
    "\n",
    "executable_path = {'executable_path': 'chromedriver.exe'}\n",
    "browser = Browser('chrome', **executable_path, headless=False)\n",
    "browser.visit(usgs_url)"
   ]
  },
  {
   "cell_type": "code",
   "execution_count": 14,
   "metadata": {},
   "outputs": [
    {
     "name": "stdout",
     "output_type": "stream",
     "text": [
      "Cerberus Hemisphere Enhanced\n",
      "http://astropedia.astrogeology.usgs.gov/download/Mars/Viking/cerberus_enhanced.tif/full.jpg\n"
     ]
    }
   ],
   "source": [
    "html = browser.html\n",
    "usgs_soup = BeautifulSoup(html, 'html.parser')\n",
    "usgs_prefix = \"https://astrogeology.usgs.gov\"\n",
    "\n",
    "hemi_1 = usgs_soup.find('div', class_='description').find('a').text\n",
    "results_get = usgs_soup.find('div', class_='description').find('a')['href']\n",
    "print(hemi_1)\n",
    "\n",
    "results_url = usgs_prefix + results_get\n",
    "\n",
    "browser.visit(results_url)\n",
    "html = browser.html\n",
    "usgs_soup_1 = BeautifulSoup(html, 'html.parser')\n",
    "\n",
    "usgs_img_1 = usgs_soup_1.find('div', class_='downloads').find('a')['href']\n",
    "print(usgs_img_1)\n"
   ]
  },
  {
   "cell_type": "code",
   "execution_count": 18,
   "metadata": {},
   "outputs": [],
   "source": [
    "#MARS HEMISPHERES (img 2)\n",
    "usgs_url = \"https://astrogeology.usgs.gov/search/results?q=hemisphere+enhanced&k1=target&v1=Mars\"\n",
    "\n",
    "executable_path = {'executable_path': 'chromedriver.exe'}\n",
    "browser = Browser('chrome', **executable_path, headless=False)\n",
    "browser.visit(usgs_url)"
   ]
  },
  {
   "cell_type": "code",
   "execution_count": 19,
   "metadata": {},
   "outputs": [
    {
     "name": "stdout",
     "output_type": "stream",
     "text": [
      "/search/map/Mars/Viking/schiaparelli_enhanced\n",
      "http://astropedia.astrogeology.usgs.gov/download/Mars/Viking/schiaparelli_enhanced.tif/full.jpg\n"
     ]
    }
   ],
   "source": [
    "html = browser.html\n",
    "usgs_soup = BeautifulSoup(html, 'html.parser')\n",
    "usgs_prefix = \"https://astrogeology.usgs.gov\"\n",
    "\n",
    "hemi_2 = usgs_soup.find_all('div', class_='description')[1].find('a').text\n",
    "results_get = usgs_soup.find_all('div', class_='description')[1].find('a')['href']\n",
    "print(results_get)\n",
    "\n",
    "results_url = usgs_prefix + results_get\n",
    "\n",
    "browser.visit(results_url)\n",
    "html = browser.html\n",
    "usgs_soup_2 = BeautifulSoup(html, 'html.parser')\n",
    "\n",
    "usgs_img_2 = usgs_soup_2.find('div', class_='downloads').find('a')['href']\n",
    "print(usgs_img_2)"
   ]
  },
  {
   "cell_type": "code",
   "execution_count": 20,
   "metadata": {},
   "outputs": [],
   "source": [
    "#MARS HEMISPHERES (img 3)\n",
    "usgs_url = \"https://astrogeology.usgs.gov/search/results?q=hemisphere+enhanced&k1=target&v1=Mars\"\n",
    "\n",
    "executable_path = {'executable_path': 'chromedriver.exe'}\n",
    "browser = Browser('chrome', **executable_path, headless=False)\n",
    "browser.visit(usgs_url)"
   ]
  },
  {
   "cell_type": "code",
   "execution_count": 21,
   "metadata": {},
   "outputs": [
    {
     "name": "stdout",
     "output_type": "stream",
     "text": [
      "/search/map/Mars/Viking/syrtis_major_enhanced\n",
      "http://astropedia.astrogeology.usgs.gov/download/Mars/Viking/syrtis_major_enhanced.tif/full.jpg\n"
     ]
    }
   ],
   "source": [
    "html = browser.html\n",
    "usgs_soup = BeautifulSoup(html, 'html.parser')\n",
    "usgs_prefix = \"https://astrogeology.usgs.gov\"\n",
    "\n",
    "hemi_3 = usgs_soup.find_all('div', class_='description')[2].find('a').text\n",
    "results_get = usgs_soup.find_all('div', class_='description')[2].find('a')['href']\n",
    "print(results_get)\n",
    "\n",
    "results_url = usgs_prefix + results_get\n",
    "\n",
    "browser.visit(results_url)\n",
    "html = browser.html\n",
    "usgs_soup_3 = BeautifulSoup(html, 'html.parser')\n",
    "\n",
    "usgs_img_3 = usgs_soup_3.find('div', class_='downloads').find('a')['href']\n",
    "print(usgs_img_3)"
   ]
  },
  {
   "cell_type": "code",
   "execution_count": 22,
   "metadata": {},
   "outputs": [],
   "source": [
    "#MARS HEMISPHERES (img 4)\n",
    "usgs_url = \"https://astrogeology.usgs.gov/search/results?q=hemisphere+enhanced&k1=target&v1=Mars\"\n",
    "\n",
    "executable_path = {'executable_path': 'chromedriver.exe'}\n",
    "browser = Browser('chrome', **executable_path, headless=False)\n",
    "browser.visit(usgs_url)"
   ]
  },
  {
   "cell_type": "code",
   "execution_count": 23,
   "metadata": {},
   "outputs": [
    {
     "name": "stdout",
     "output_type": "stream",
     "text": [
      "/search/map/Mars/Viking/valles_marineris_enhanced\n",
      "http://astropedia.astrogeology.usgs.gov/download/Mars/Viking/valles_marineris_enhanced.tif/full.jpg\n"
     ]
    }
   ],
   "source": [
    "html = browser.html\n",
    "usgs_soup = BeautifulSoup(html, 'html.parser')\n",
    "usgs_prefix = \"https://astrogeology.usgs.gov\"\n",
    "\n",
    "hemi_4 = usgs_soup.find_all('div', class_='description')[3].find('a').text\n",
    "results_get = usgs_soup.find_all('div', class_='description')[3].find('a')['href']\n",
    "print(results_get)\n",
    "\n",
    "results_url = usgs_prefix + results_get\n",
    "\n",
    "browser.visit(results_url)\n",
    "html = browser.html\n",
    "usgs_soup_4 = BeautifulSoup(html, 'html.parser')\n",
    "\n",
    "usgs_img_4 = usgs_soup_4.find('div', class_='downloads').find('a')['href']\n",
    "print(usgs_img_4)"
   ]
  },
  {
   "cell_type": "code",
   "execution_count": 29,
   "metadata": {},
   "outputs": [
    {
     "name": "stdout",
     "output_type": "stream",
     "text": [
      "Cerberus Hemisphere Enhanced\n",
      "Schiaparelli Hemisphere Enhanced\n",
      "Syrtis Major Hemisphere Enhanced\n",
      "Valles Marineris Hemisphere Enhanced\n",
      "http://astropedia.astrogeology.usgs.gov/download/Mars/Viking/cerberus_enhanced.tif/full.jpg\n",
      "http://astropedia.astrogeology.usgs.gov/download/Mars/Viking/schiaparelli_enhanced.tif/full.jpg\n",
      "http://astropedia.astrogeology.usgs.gov/download/Mars/Viking/syrtis_major_enhanced.tif/full.jpg\n",
      "http://astropedia.astrogeology.usgs.gov/download/Mars/Viking/valles_marineris_enhanced.tif/full.jpg\n"
     ]
    }
   ],
   "source": [
    "# Add to collection\n",
    "if (usgs_img_1 and usgs_img_2 and usgs_img_3 and usgs_img_4):\n",
    "    # Print results\n",
    "    print(hemi_1)\n",
    "    print(hemi_2)\n",
    "    print(hemi_3)\n",
    "    print(hemi_4)\n",
    "    print(usgs_img_1)\n",
    "    print(usgs_img_2)\n",
    "    print(usgs_img_3)\n",
    "    print(usgs_img_4)\n",
    "\n",
    "    # Dictionary to be inserted as a MongoDB document\n",
    "    hemisphere_image_urls = [\n",
    "    {\"title\": hemi_1, \"img_url\": usgs_img_1},\n",
    "    {\"title\": hemi_2, \"img_url\": usgs_img_2},\n",
    "    {\"title\": hemi_3, \"img_url\": usgs_img_3},\n",
    "    {\"title\": hemi_4, \"img_url\": usgs_img_4}\n",
    "    ]\n",
    "\n",
    "\n",
    "    collection.insert_many(hemisphere_image_urls)"
   ]
  },
  {
   "cell_type": "code",
   "execution_count": null,
   "metadata": {},
   "outputs": [],
   "source": []
  }
 ],
 "metadata": {
  "kernelspec": {
   "display_name": "Python 3",
   "language": "python",
   "name": "python3"
  },
  "language_info": {
   "codemirror_mode": {
    "name": "ipython",
    "version": 3
   },
   "file_extension": ".py",
   "mimetype": "text/x-python",
   "name": "python",
   "nbconvert_exporter": "python",
   "pygments_lexer": "ipython3",
   "version": "3.7.4"
  }
 },
 "nbformat": 4,
 "nbformat_minor": 2
}
