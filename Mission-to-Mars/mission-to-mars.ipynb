{
 "cells": [
  {
   "cell_type": "code",
   "execution_count": 3,
   "metadata": {},
   "outputs": [],
   "source": [
    "# Import Dependencies\n",
    "import pandas as pd\n",
    "from splinter import Browser\n",
    "from bs4 import BeautifulSoup\n",
    "import requests\n",
    "import pymongo"
   ]
  },
  {
   "cell_type": "code",
   "execution_count": 2,
   "metadata": {},
   "outputs": [
    {
     "name": "stdout",
     "output_type": "stream",
     "text": [
      "Collecting splinter\n",
      "  Using cached https://files.pythonhosted.org/packages/d1/46/bb01079ef246d61c2432420c6cd63ecb11e0e909a5da42abcb407e0fb4e2/splinter-0.13.0.tar.gz\n",
      "Collecting selenium>=3.141.0\n",
      "  Using cached https://files.pythonhosted.org/packages/80/d6/4294f0b4bce4de0abf13e17190289f9d0613b0a44e5dd6a7f5ca98459853/selenium-3.141.0-py2.py3-none-any.whl\n",
      "Requirement already satisfied: six in c:\\users\\chtho\\anaconda3\\envs\\pythondata\\lib\\site-packages (from splinter) (1.13.0)\n",
      "Requirement already satisfied: urllib3 in c:\\users\\chtho\\anaconda3\\envs\\pythondata\\lib\\site-packages (from selenium>=3.141.0->splinter) (1.25.7)\n",
      "Building wheels for collected packages: splinter\n",
      "  Building wheel for splinter (setup.py): started\n",
      "  Building wheel for splinter (setup.py): finished with status 'done'\n",
      "  Created wheel for splinter: filename=splinter-0.13.0-cp36-none-any.whl size=33309 sha256=ce788b34eec67c9e0c43635f93ad7c79d24fe3819bef2455cb9070c3d097a5a1\n",
      "  Stored in directory: C:\\Users\\chtho\\AppData\\Local\\pip\\Cache\\wheels\\fd\\ff\\26\\2fc56897bcbe58908bbb2002c53affb516e5e6daa425aefdef\n",
      "Successfully built splinter\n",
      "Installing collected packages: selenium, splinter\n",
      "Successfully installed selenium-3.141.0 splinter-0.13.0\n",
      "Note: you may need to restart the kernel to use updated packages.\n"
     ]
    }
   ],
   "source": [
    "#pip install splinter #for some reason splinter keeps uninstalling"
   ]
  },
  {
   "cell_type": "code",
   "execution_count": 4,
   "metadata": {},
   "outputs": [],
   "source": [
    "# Initialize PyMongo to work with MongoDBs\n",
    "conn = 'mongodb://localhost:27017'\n",
    "client = pymongo.MongoClient(conn)\n",
    "\n",
    "# Define database and collection\n",
    "db = client.news_db\n",
    "collection = db.items"
   ]
  },
  {
   "cell_type": "code",
   "execution_count": 5,
   "metadata": {},
   "outputs": [],
   "source": [
    "mars_url= \"https://mars.nasa.gov/news/\"\n",
    "jpl_url= \"https://www.jpl.nasa.gov/spaceimages/?search=&category=Mars\"\n",
    "\n",
    "# Retrieve page with the requests module\n",
    "response = requests.get(mars_url)\n",
    "# Create BeautifulSoup object; parse with 'lxml'\n",
    "mars_soup = BeautifulSoup(response.text, 'lxml')"
   ]
  },
  {
   "cell_type": "code",
   "execution_count": 34,
   "metadata": {},
   "outputs": [
    {
     "name": "stdout",
     "output_type": "stream",
     "text": [
      "[]\n",
      "ResultSet object has no attribute 'find'. You're probably treating a list of items like a single item. Did you call find_all() when you meant to call find()?\n"
     ]
    }
   ],
   "source": [
    "# Examine the results, then determine element that contains sought info for MARS\n",
    "\n",
    "mars_results = mars_soup.find_all('ul', class_='item_list')\n",
    "print(mars_results)\n",
    "\n",
    "# Error handling\n",
    "try:\n",
    "    # Identify and return title of post\n",
    "    news_title = mars_results.find('div', class_='list_text').find('a').text\n",
    "    # Identify and return paragraph text\n",
    "    news_p = mars_results.find('div', class_='article_teaser_body').text\n",
    "\n",
    "    # Run only if title, price, and link are available\n",
    "    if (news_title and news_p):\n",
    "        # Print results\n",
    "        print(news_title)\n",
    "        print(news_p)\n",
    "\n",
    "        # Dictionary to be inserted as a MongoDB document\n",
    "        post = {\n",
    "            'title': news_title,\n",
    "            'price': news_p\n",
    "        }\n",
    "\n",
    "        collection.insert_one(post)\n",
    "\n",
    "except Exception as e:\n",
    "    print(e)"
   ]
  },
  {
   "cell_type": "code",
   "execution_count": null,
   "metadata": {},
   "outputs": [],
   "source": []
  }
 ],
 "metadata": {
  "kernelspec": {
   "display_name": "Python [conda env:PythonData] *",
   "language": "python",
   "name": "conda-env-PythonData-py"
  },
  "language_info": {
   "codemirror_mode": {
    "name": "ipython",
    "version": 3
   },
   "file_extension": ".py",
   "mimetype": "text/x-python",
   "name": "python",
   "nbconvert_exporter": "python",
   "pygments_lexer": "ipython3",
   "version": "3.6.9"
  }
 },
 "nbformat": 4,
 "nbformat_minor": 2
}
